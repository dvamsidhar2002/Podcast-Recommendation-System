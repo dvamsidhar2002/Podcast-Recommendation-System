{
 "cells": [
  {
   "cell_type": "code",
   "execution_count": 23,
   "metadata": {},
   "outputs": [],
   "source": [
    "#importing the dependecies\n",
    "import pandas as pd\n",
    "import numpy as np\n",
    "import matplotlib.pyplot as plt\n",
    "import seaborn as sns"
   ]
  },
  {
   "cell_type": "code",
   "execution_count": 24,
   "metadata": {},
   "outputs": [
    {
     "data": {
      "text/html": [
       "<div>\n",
       "<style scoped>\n",
       "    .dataframe tbody tr th:only-of-type {\n",
       "        vertical-align: middle;\n",
       "    }\n",
       "\n",
       "    .dataframe tbody tr th {\n",
       "        vertical-align: top;\n",
       "    }\n",
       "\n",
       "    .dataframe thead th {\n",
       "        text-align: right;\n",
       "    }\n",
       "</style>\n",
       "<table border=\"1\" class=\"dataframe\">\n",
       "  <thead>\n",
       "    <tr style=\"text-align: right;\">\n",
       "      <th></th>\n",
       "      <th>index</th>\n",
       "      <th>Name</th>\n",
       "      <th>Rating_Volume</th>\n",
       "      <th>Rating</th>\n",
       "      <th>Genre</th>\n",
       "      <th>Description</th>\n",
       "    </tr>\n",
       "  </thead>\n",
       "  <tbody>\n",
       "    <tr>\n",
       "      <th>0</th>\n",
       "      <td>0</td>\n",
       "      <td>Fresh Air</td>\n",
       "      <td>10188</td>\n",
       "      <td>4.46133</td>\n",
       "      <td>Arts</td>\n",
       "      <td>Fresh Air from WHYY, the Peabody Award-winning...</td>\n",
       "    </tr>\n",
       "    <tr>\n",
       "      <th>1</th>\n",
       "      <td>0</td>\n",
       "      <td>The Moth</td>\n",
       "      <td>10154</td>\n",
       "      <td>4.69982</td>\n",
       "      <td>Performing</td>\n",
       "      <td>Since its launch in 1997, The Moth has present...</td>\n",
       "    </tr>\n",
       "    <tr>\n",
       "      <th>2</th>\n",
       "      <td>0</td>\n",
       "      <td>99% Invisible</td>\n",
       "      <td>12303</td>\n",
       "      <td>4.8693</td>\n",
       "      <td>Design</td>\n",
       "      <td>Design is everywhere in our lives, perhaps mos...</td>\n",
       "    </tr>\n",
       "    <tr>\n",
       "      <th>3</th>\n",
       "      <td>0</td>\n",
       "      <td>iFanboy.com Comic Book Podcast</td>\n",
       "      <td>1335</td>\n",
       "      <td>4.79551</td>\n",
       "      <td>Visual</td>\n",
       "      <td>The iFanboy.com Comic Book Podcast is a weekly...</td>\n",
       "    </tr>\n",
       "    <tr>\n",
       "      <th>4</th>\n",
       "      <td>0</td>\n",
       "      <td>Myths and Legends</td>\n",
       "      <td>11128</td>\n",
       "      <td>4.88282</td>\n",
       "      <td>Literature</td>\n",
       "      <td>Jason Weiser tells stories from myths, legends...</td>\n",
       "    </tr>\n",
       "  </tbody>\n",
       "</table>\n",
       "</div>"
      ],
      "text/plain": [
       "   index                            Name Rating_Volume   Rating       Genre  \\\n",
       "0      0                       Fresh Air         10188  4.46133        Arts   \n",
       "1      0                        The Moth         10154  4.69982  Performing   \n",
       "2      0                   99% Invisible         12303   4.8693      Design   \n",
       "3      0  iFanboy.com Comic Book Podcast          1335  4.79551      Visual   \n",
       "4      0               Myths and Legends         11128  4.88282  Literature   \n",
       "\n",
       "                                         Description  \n",
       "0  Fresh Air from WHYY, the Peabody Award-winning...  \n",
       "1  Since its launch in 1997, The Moth has present...  \n",
       "2  Design is everywhere in our lives, perhaps mos...  \n",
       "3  The iFanboy.com Comic Book Podcast is a weekly...  \n",
       "4  Jason Weiser tells stories from myths, legends...  "
      ]
     },
     "execution_count": 24,
     "metadata": {},
     "output_type": "execute_result"
    }
   ],
   "source": [
    "#loading the dataset into the workspace\n",
    "data = pd.read_csv('poddf.csv')\n",
    "data.head()"
   ]
  },
  {
   "cell_type": "code",
   "execution_count": 25,
   "metadata": {},
   "outputs": [
    {
     "data": {
      "text/html": [
       "<div>\n",
       "<style scoped>\n",
       "    .dataframe tbody tr th:only-of-type {\n",
       "        vertical-align: middle;\n",
       "    }\n",
       "\n",
       "    .dataframe tbody tr th {\n",
       "        vertical-align: top;\n",
       "    }\n",
       "\n",
       "    .dataframe thead th {\n",
       "        text-align: right;\n",
       "    }\n",
       "</style>\n",
       "<table border=\"1\" class=\"dataframe\">\n",
       "  <thead>\n",
       "    <tr style=\"text-align: right;\">\n",
       "      <th></th>\n",
       "      <th>Name</th>\n",
       "      <th>Genre</th>\n",
       "      <th>Description</th>\n",
       "    </tr>\n",
       "  </thead>\n",
       "  <tbody>\n",
       "    <tr>\n",
       "      <th>0</th>\n",
       "      <td>Fresh Air</td>\n",
       "      <td>Arts</td>\n",
       "      <td>Fresh Air from WHYY, the Peabody Award-winning...</td>\n",
       "    </tr>\n",
       "    <tr>\n",
       "      <th>1</th>\n",
       "      <td>The Moth</td>\n",
       "      <td>Performing</td>\n",
       "      <td>Since its launch in 1997, The Moth has present...</td>\n",
       "    </tr>\n",
       "    <tr>\n",
       "      <th>2</th>\n",
       "      <td>99% Invisible</td>\n",
       "      <td>Design</td>\n",
       "      <td>Design is everywhere in our lives, perhaps mos...</td>\n",
       "    </tr>\n",
       "    <tr>\n",
       "      <th>3</th>\n",
       "      <td>iFanboy.com Comic Book Podcast</td>\n",
       "      <td>Visual</td>\n",
       "      <td>The iFanboy.com Comic Book Podcast is a weekly...</td>\n",
       "    </tr>\n",
       "    <tr>\n",
       "      <th>4</th>\n",
       "      <td>Myths and Legends</td>\n",
       "      <td>Literature</td>\n",
       "      <td>Jason Weiser tells stories from myths, legends...</td>\n",
       "    </tr>\n",
       "  </tbody>\n",
       "</table>\n",
       "</div>"
      ],
      "text/plain": [
       "                             Name       Genre  \\\n",
       "0                       Fresh Air        Arts   \n",
       "1                        The Moth  Performing   \n",
       "2                   99% Invisible      Design   \n",
       "3  iFanboy.com Comic Book Podcast      Visual   \n",
       "4               Myths and Legends  Literature   \n",
       "\n",
       "                                         Description  \n",
       "0  Fresh Air from WHYY, the Peabody Award-winning...  \n",
       "1  Since its launch in 1997, The Moth has present...  \n",
       "2  Design is everywhere in our lives, perhaps mos...  \n",
       "3  The iFanboy.com Comic Book Podcast is a weekly...  \n",
       "4  Jason Weiser tells stories from myths, legends...  "
      ]
     },
     "execution_count": 25,
     "metadata": {},
     "output_type": "execute_result"
    }
   ],
   "source": [
    "podcast = data[['Name','Genre','Description']]\n",
    "podcast.head()"
   ]
  },
  {
   "cell_type": "code",
   "execution_count": 26,
   "metadata": {},
   "outputs": [
    {
     "data": {
      "text/plain": [
       "(13632, 3)"
      ]
     },
     "execution_count": 26,
     "metadata": {},
     "output_type": "execute_result"
    }
   ],
   "source": [
    "podcast.shape"
   ]
  },
  {
   "cell_type": "code",
   "execution_count": 27,
   "metadata": {},
   "outputs": [],
   "source": [
    "from sklearn.feature_extraction.text import CountVectorizer\n",
    "cv = CountVectorizer(max_features=5000,stop_words='english')\n",
    "vector = cv.fit_transform(podcast['Description']).toarray()\n"
   ]
  },
  {
   "cell_type": "code",
   "execution_count": 28,
   "metadata": {},
   "outputs": [],
   "source": [
    "from sklearn.metrics.pairwise import cosine_similarity\n",
    "similarity = cosine_similarity(vector)"
   ]
  },
  {
   "cell_type": "code",
   "execution_count": 29,
   "metadata": {},
   "outputs": [],
   "source": [
    "def recommend(podcast_name):\n",
    "    index = podcast[podcast['Name'] == podcast_name].index[0]\n",
    "    distances = sorted(list(enumerate(similarity[index])),reverse=True,key = lambda x: x[1])\n",
    "    for i in distances[1:6]:\n",
    "        print(podcast.iloc[i[0]].Name)"
   ]
  },
  {
   "cell_type": "code",
   "execution_count": 30,
   "metadata": {},
   "outputs": [
    {
     "name": "stdout",
     "output_type": "stream",
     "text": [
      "Invisibilia\n",
      "Diffusion Science radio\n",
      "PsychTech - The Psychology and Technology Podcast\n",
      "Love Me\n",
      "Subconscious Mind Mastery Podcast\n"
     ]
    }
   ],
   "source": [
    "podcast_name = str(input('Enter the name of the podcast : '))\n",
    "recommend(podcast_name)"
   ]
  },
  {
   "cell_type": "code",
   "execution_count": null,
   "metadata": {},
   "outputs": [],
   "source": []
  }
 ],
 "metadata": {
  "kernelspec": {
   "display_name": "Python 3",
   "language": "python",
   "name": "python3"
  },
  "language_info": {
   "codemirror_mode": {
    "name": "ipython",
    "version": 3
   },
   "file_extension": ".py",
   "mimetype": "text/x-python",
   "name": "python",
   "nbconvert_exporter": "python",
   "pygments_lexer": "ipython3",
   "version": "3.10.11"
  },
  "orig_nbformat": 4
 },
 "nbformat": 4,
 "nbformat_minor": 2
}
